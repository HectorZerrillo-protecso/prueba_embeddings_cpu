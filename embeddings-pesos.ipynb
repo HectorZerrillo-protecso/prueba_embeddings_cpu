{
 "cells": [
  {
   "cell_type": "code",
   "execution_count": 4,
   "metadata": {},
   "outputs": [
    {
     "name": "stderr",
     "output_type": "stream",
     "text": [
      "e:\\Codigo\\python\\Hugging-Face\\myenv\\Lib\\site-packages\\tqdm\\auto.py:21: TqdmWarning: IProgress not found. Please update jupyter and ipywidgets. See https://ipywidgets.readthedocs.io/en/stable/user_install.html\n",
      "  from .autonotebook import tqdm as notebook_tqdm\n"
     ]
    }
   ],
   "source": [
    "from sentence_transformers import SentenceTransformer, util\n",
    "import json\n",
    "import glob\n",
    "import spacy\n",
    "import numpy as np\n"
   ]
  },
  {
   "cell_type": "code",
   "execution_count": 2,
   "metadata": {},
   "outputs": [],
   "source": [
    "# Cargar el modelo de SentenceTransformer\n",
    "model = SentenceTransformer(\"NovaSearch/stella_en_1.5B_v5\", trust_remote_code=True)\n",
    "\n",
    "# Cargar el modelo de spaCy para el idioma español\n",
    "nlp = spacy.load(\"es_core_news_sm\")\n"
   ]
  },
  {
   "cell_type": "code",
   "execution_count": 9,
   "metadata": {},
   "outputs": [],
   "source": [
    "# Ruta de la carpeta que contiene los archivos JSON\n",
    "carpeta_fichas = \"./fichas\"\n",
    "\n",
    "# Lista para almacenar las oraciones extraídas\n",
    "sentences = []\n",
    "\n",
    "# Recorrer todos los archivos JSON en la carpeta\n",
    "for archivo in glob.glob(f\"{carpeta_fichas}/*.json\"):\n",
    "    # Leer el contenido del archivo JSON\n",
    "    with open(archivo, 'r', encoding='utf-8') as file:\n",
    "        data = json.load(file)\n",
    "        \n",
    "        # Extraer valores de las claves especificadas si existen\n",
    "        id_ficha = str(data.get('IdFichaTecnica', ''))\n",
    "        codigo_pelicula = data.get('codigoDePelicula', '')\n",
    "        aplicaciones = data.get('Aplicaciones', '')\n",
    "        \n",
    "        # Crear una oración con los valores (puedes ajustar el formato)\n",
    "        sentence = f\"IdFichaTecnica: {id_ficha}, CodigoDePelicula: {codigo_pelicula}, Aplicaciones: {aplicaciones}\"\n",
    "        sentences.append(sentence)\n"
   ]
  },
  {
   "cell_type": "code",
   "execution_count": 10,
   "metadata": {},
   "outputs": [],
   "source": [
    "# Generar los embeddings de las oraciones SIN oversampling\n",
    "sentence_embeddings = model.encode(sentences)"
   ]
  },
  {
   "cell_type": "code",
   "execution_count": 2,
   "metadata": {},
   "outputs": [],
   "source": [
    "# ---- Función para \"sobremuestrear\" (oversampling) los sustantivos SOLO en la query ----\n",
    "def ponderar_sustantivos(oracion, factor=2.0):\n",
    "    doc = nlp(oracion)\n",
    "    palabras_ponderadas = []\n",
    "    for token in doc:\n",
    "        if token.pos_ == \"NOUN\":  # Si la palabra es un sustantivo\n",
    "            # Añadir el sustantivo varias veces (factor = 2.0 por defecto)\n",
    "            palabras_ponderadas.extend([token.text] * int(factor))\n",
    "        else:\n",
    "            palabras_ponderadas.append(token.text)\n",
    "    return \" \".join(palabras_ponderadas)"
   ]
  },
  {
   "cell_type": "code",
   "execution_count": 3,
   "metadata": {},
   "outputs": [
    {
     "ename": "NameError",
     "evalue": "name 'nlp' is not defined",
     "output_type": "error",
     "traceback": [
      "\u001b[1;31m---------------------------------------------------------------------------\u001b[0m",
      "\u001b[1;31mNameError\u001b[0m                                 Traceback (most recent call last)",
      "Cell \u001b[1;32mIn[3], line 5\u001b[0m\n\u001b[0;32m      2\u001b[0m reference_sentence \u001b[38;5;241m=\u001b[39m \u001b[38;5;124m\"\u001b[39m\u001b[38;5;124menvolver o empacar carnes o atun,\u001b[39m\u001b[38;5;124m\"\u001b[39m\n\u001b[0;32m      4\u001b[0m \u001b[38;5;66;03m# Oversampling SOLO en la frase de referencia\u001b[39;00m\n\u001b[1;32m----> 5\u001b[0m reference_sentence_ponderada \u001b[38;5;241m=\u001b[39m \u001b[43mponderar_sustantivos\u001b[49m\u001b[43m(\u001b[49m\u001b[43mreference_sentence\u001b[49m\u001b[43m,\u001b[49m\u001b[43m \u001b[49m\u001b[43mfactor\u001b[49m\u001b[38;5;241;43m=\u001b[39;49m\u001b[38;5;241;43m3\u001b[39;49m\u001b[43m)\u001b[49m\n\u001b[0;32m      7\u001b[0m \u001b[38;5;66;03m# Generar el embedding de la frase de referencia sobresampleada\u001b[39;00m\n\u001b[0;32m      8\u001b[0m reference_embedding \u001b[38;5;241m=\u001b[39m model\u001b[38;5;241m.\u001b[39mencode(reference_sentence_ponderada)\n",
      "Cell \u001b[1;32mIn[2], line 3\u001b[0m, in \u001b[0;36mponderar_sustantivos\u001b[1;34m(oracion, factor)\u001b[0m\n\u001b[0;32m      2\u001b[0m \u001b[38;5;28;01mdef\u001b[39;00m\u001b[38;5;250m \u001b[39m\u001b[38;5;21mponderar_sustantivos\u001b[39m(oracion, factor\u001b[38;5;241m=\u001b[39m\u001b[38;5;241m2.0\u001b[39m):\n\u001b[1;32m----> 3\u001b[0m     doc \u001b[38;5;241m=\u001b[39m \u001b[43mnlp\u001b[49m(oracion)\n\u001b[0;32m      4\u001b[0m     palabras_ponderadas \u001b[38;5;241m=\u001b[39m []\n\u001b[0;32m      5\u001b[0m     \u001b[38;5;28;01mfor\u001b[39;00m token \u001b[38;5;129;01min\u001b[39;00m doc:\n",
      "\u001b[1;31mNameError\u001b[0m: name 'nlp' is not defined"
     ]
    }
   ],
   "source": [
    "# La oración de referencia\n",
    "reference_sentence = \"envolver o empacar carnes o atun,\"\n",
    "\n",
    "# Oversampling SOLO en la frase de referencia\n",
    "reference_sentence_ponderada = ponderar_sustantivos(reference_sentence, factor=3)\n",
    "\n",
    "# Generar el embedding de la frase de referencia sobresampleada\n",
    "reference_embedding = model.encode(reference_sentence_ponderada)\n",
    "\n"
   ]
  },
  {
   "cell_type": "code",
   "execution_count": 28,
   "metadata": {},
   "outputs": [],
   "source": [
    "# Calcular la similitud coseno entre la oración de referencia y cada oración en la lista\n",
    "similarities = util.cos_sim(reference_embedding, sentence_embeddings)\n",
    "# 4. Convertir el tensor a una lista para una salida más legible\n",
    "similarities = similarities.tolist()[0]  # Convertir a lista y tomar la primera fila"
   ]
  },
  {
   "cell_type": "code",
   "execution_count": 29,
   "metadata": {},
   "outputs": [
    {
     "name": "stdout",
     "output_type": "stream",
     "text": [
      "Similitudes entre la oración de referencia y las oraciones en la lista:\n",
      "\n",
      "1) Sentence: 'IdFichaTecnica: , CodigoDePelicula: ATr-TT, Aplicaciones: Grado retortable, se utiliza como capa intermedia en laminaciones triples o cuádruples para envases flexibles retortables que deben soportar exigentes condiciones de esterilización. Estos envases reemplazan latas de conservas y se usan para empacar atún, pescados, comidas preparadas y otros.Cumple con las regulaciones de la FDA y UE para contacto con alimentos.' \n",
      "   Score: 0.4848\n",
      "\n",
      "2) Sentence: 'IdFichaTecnica: , CodigoDePelicula: ATr, Aplicaciones: Grado retortable, se utiliza como capa intermedia en laminaciones triples o cuádruples para envases flexibles retortables que deben soportar exigentes condiciones de esterilización. Estos envases reemplazan latas de conservas y se usan para empacar atún, pescados, comidas preparadas y otros. Cumple con las regulaciones de la FDA y UE para contacto con alimentos.' \n",
      "   Score: 0.4837\n",
      "\n",
      "3) Sentence: 'IdFichaTecnica: , CodigoDePelicula: AT, Aplicaciones: Diseñada como película externa, impresa reversa en laminados. Utilizada en empaques al vacío o en atmósfera modificada que requiera buena barrera al oxígeno, para carnes procesadas, embutidos, mariscos, congelados, productos lácteos y pastas. También se usa en paquetes que requieren una excelente resistencia mecánica, resistencia al punzonado y “flexcrack”. Además se recomienda para envases con productos químicos exigentes y protección a las grasas, como las que se usan en alimentos para mascotas y limpiadores líquidos. Los productos laminados con esta película se encuentran en “stand up pouches” y en formatos de bolsas grandes. Cumple con las regulaciones de la FDA y UE para contacto con alimentos.' \n",
      "   Score: 0.4836\n",
      "\n",
      "4) Sentence: 'IdFichaTecnica: , CodigoDePelicula: CH, Aplicaciones: Diseñada para ser utilizada como mono-capa en diferentes tipos de bolsas de sello lateral (side-weld) de construcción plana, con pliegues o con fuelles en aplicaciones\n",
      "múltiples tales como envoltura de panadería, textiles y mangas de flores. Esta película cumple con las regulaciones del FDA y UE para contacto con alimentos.\n",
      "' \n",
      "   Score: 0.4700\n",
      "\n",
      "5) Sentence: 'IdFichaTecnica: , CodigoDePelicula: ATqi, Aplicaciones: Diseñada como película externa, impresa reversa en laminados. Utilizada en empaques al vacío o en atmósfera modificada que requiera buena barrera al oxígeno, para carnes procesadas, embutidos, mariscos, congelados, productos lácteos y pastas. También se usa en paquetes que requieren una excelente resistencia mecánica, resistencia al punzonado y flexcrack. Además, se recomienda para envases con productos químicos exigentes y protección a las grasas, como las que se utilizan en alimentos para mascotas y limpiadores líquidos. Los productos laminados con esta película se encuentran en stand up pouches y en formatos de bolsas grandes. Cumple con las regulaciones de la FDA y UE para contacto con alimentos.' \n",
      "   Score: 0.4678\n",
      "\n",
      "6) Sentence: 'IdFichaTecnica: , CodigoDePelicula: ATqi-TT, Aplicaciones: Tratado en ambas caras, se utiliza como capa intermedia en laminaciones múltiples. Se recomienda en empaques que requieren de protección mecánica y/o química, para envasar productos con componentes migratorios como salsas de tomate, kétchup y mostaza y como barrera a los aceites y grasas. Cumple con las regulaciones de la FDA y UE para contacto con alimentos.' \n",
      "   Score: 0.4473\n",
      "\n",
      "7) Sentence: 'IdFichaTecnica: , CodigoDePelicula: ET-NN, Aplicaciones: Diseñada para ser empleada en múltiples aplicaciones en una gran variedad de procesos de conversión en la industria de empaques para alimentos así como en aplicaciones industriales. Cumple con las regulaciones de la FDA Y UE para contacto con alimentos.' \n",
      "   Score: 0.4460\n",
      "\n",
      "8) Sentence: 'IdFichaTecnica: , CodigoDePelicula: CA, Aplicaciones: Diseñada para ser utilizada como mono-capa o en estructuras laminadas. Su hot-tack le permite ser usado en muchas aplicaciones que requieren de muy alta velocidad de empaque y sello a través de contaminantes en polvo. Esta película puede también ser usada en empacadoras múltiples VFFS o HFSS con sello de aleta o traslape así como en sellos de hilo (side-weld) de bolsas. Esta película cumple con las regulaciones del FDA para contacto directo con alimentos.' \n",
      "   Score: 0.4293\n",
      "\n",
      "9) Sentence: 'IdFichaTecnica: , CodigoDePelicula: CMC , Aplicaciones: Este producto es típicamente empleado como capa interna en laminaciones para productos que requieran protección a la luz y alta barrera al oxígeno y/o a la humedad. Se recomienda usar adhesivos de buen curado elástico para evitar la afectación de las fuerzas de laminado. Para cumplir con las regulaciones de la FDA y UE de contacto con alimentos, la capa metálica debe localizarse en la cara externa o en “sándwich” dentro de la estructura laminada. Esta película genera alta fuerza de sello y hermeticidad del empaque.' \n",
      "   Score: 0.4111\n",
      "\n",
      "10) Sentence: 'IdFichaTecnica: , CodigoDePelicula: ETm-TN, Aplicaciones: Diseñada para ser empleada en múltiples aplicaciones en una gran variedad de procesos de conversión en la industria de empaques para alimentos, así como aplicaciones industriales. La cara con tratamiento corona proporciona muy buena adhesividad a varios sistemas de tintas tales como los sistemas base polivinílicas PVB, así como de adhesivos y aluminio en el proceso de metalizado. Está diseñada para alta procesabilidad en máquinas de empaque como capa externa en laminaciones. Cumple con las regulaciones de la FDA y UE para contacto con alimentos.' \n",
      "   Score: 0.4077\n",
      "\n",
      "11) Sentence: 'IdFichaTecnica: , CodigoDePelicula: CAH, Aplicaciones: Utilizada como mono-capa o en estructuras laminadas. Su hot-tack le permite ser usado en muchas aplicaciones que requieren de muy alta velocidad de empaque y sello a través de contaminantes en polvo. Esta película cumple con las regulaciones del FDA para contacto directo con alimentos. Es recomendable retratar la película para mejorar las fuerzas de unión.' \n",
      "   Score: 0.4070\n",
      "\n",
      "12) Sentence: 'IdFichaTecnica: , CodigoDePelicula: CCe, Aplicaciones: Este producto ha sido diseñado para emplearse en laminaciones con otros sustratos tales como BOPP y BOPET así como en mono-capa en una amplia variedad de bolsas. Esta película puede ser usada en sellos de hilo (side-weld) o con sellos, tipo aleta o de traslape, consigo misma o con película coextruida de BOPP. Gracias a su característica de sello, es usada en empacadoras automáticas VVFS o HFFS. Cumple con las regulaciones de la FDA y EU para contacto directo con alimentos.' \n",
      "   Score: 0.4062\n",
      "\n",
      "13) Sentence: 'IdFichaTecnica: , CodigoDePelicula: ET-TR, Aplicaciones: Diseñada para ser empleada en múltiples aplicaciones en diversos procesos de envasados técnicamente exigentes y de alto rendimiento dentro de la industria de empaques para alimentos así como en aplicaciones industriales. Además, es compatible con diversos métodos de impresión incluyendo flexografía, rotograbado, UV, EB y digital (con primer). Cumple con las regulaciones de la FDA Y UE para contacto con alimentos.' \n",
      "   Score: 0.4043\n",
      "\n",
      "14) Sentence: 'IdFichaTecnica: , CodigoDePelicula: ET-TN, Aplicaciones: Diseñada para ser empleada en múltiples aplicaciones en una gran variedad de procesos de conversión en la industria de empaques para alimentos, así como aplicaciones industriales. La cara con tratamiento corona proporciona muy buena adhesividad a varios sistemas de tintas tales como los sistemas base polivinílicas PVB, así como de adhesivos y aluminio en el proceso de metalizado. Está diseñada para alta procesabilidad en máquinas de empaque como capa externa en laminaciones. Cumple con las regulaciones de la FDA Y UE para contacto con alimentos.' \n",
      "   Score: 0.4043\n",
      "\n",
      "15) Sentence: 'IdFichaTecnica: , CodigoDePelicula: CWLH, Aplicaciones: Diseñada para ser empleada en envolturas por si sola o en laminaciones donde se requiere un fondo blanco brillante. Debido a la excelente blancura de la película, los convertidores pueden tomar ventaja en ahorrar e incluso eliminar la tinta blanca en sus diseños. Sus propiedades sellantes le permite ser empleada en un sin número de aplicaciones finales de alta velocidad. Esta película es apropiada para sellos aleta o sello de hilo (side-weld) y en todo tipo de empacadoras automáticas o manuales, verticales u horizontales. Cumple con las regulaciones de la FDA y UE para contacto con alimentos.' \n",
      "   Score: 0.4030\n",
      "\n",
      "16) Sentence: 'IdFichaTecnica: , CodigoDePelicula: CC, Aplicaciones: Este producto ha sido diseñado para emplearse en laminaciones con otros sustratos tales como BOPP y BOPET así como en mono-capa en una amplia variedad de bolsas. Esta película puede ser usada en sellos de hilo (side-weld) o con sellos, tipo aleta o de traslape, consigo misma o con película coextruida de BOPP. Gracias a su característica de sello, es usada en empacadoras automáticas VVFS o HFFS. Cumple con las regulaciones de la FDA y UE para contacto con alimentos.' \n",
      "   Score: 0.4016\n",
      "\n",
      "17) Sentence: 'IdFichaTecnica: , CodigoDePelicula: CTA, Aplicaciones: Diseñada para ser utilizada tanto en monocapa como en laminaciones donde se requieran alta flexibilidad, resistencia al frio y/o resistencia al impacto. Sus propiedades sellantes de alta fuerza de fundido (hot-tack) le permite emplearse en un sinnúmero de aplicaciones finales de muy alta velocidad y sello a través de ciertos contaminantes en polvo. Cumple con las regulaciones de la FDA y UE para contacto con alimentos.' \n",
      "   Score: 0.3995\n",
      "\n",
      "18) Sentence: 'IdFichaTecnica: , CodigoDePelicula: CCf, Aplicaciones: Empleada como sustrato interno en laminaciones para empaques de productos fríos con alto contenido de humedad o para productos calientes que evaporen agua. Tiene excelentes propiedades anti-niebla que previenen la acumulación de humedad en la superficie interna del empaque permitiendo así la buena visibilidad del producto. Cumple con las regulaciones de la FDA y UE para contacto con alimentos. Usada en sellos de hilo (side-weld) o con sellos, tipo aleta o de traslape, consigo misma o con película co-extruida de BOPP. Gracias a su característica de sello, es usada en empacadoras automáticas VVFS o HFFS. Se recomienda retratarla antes de la laminación para mejorar su fuerza de adherencia.' \n",
      "   Score: 0.3994\n",
      "\n",
      "19) Sentence: 'IdFichaTecnica: , CodigoDePelicula: CWC, Aplicaciones: Diseñada para ser empleada en envolturas por si sola o en laminaciones donde se requiere un fondo blanco brillante. Debido a la excelente blancura de la película, los convertidores pueden tomar ventaja en ahorrar e incluso eliminar la tinta blanca en sus diseños. Cumple con las regulaciones de la FDA y UE para contacto directo con alimentos. Esta película puede ser soldada sobre sí misma en sellos de aleta o de traslape o coextruida en película de BOPP. Sus propiedades sellantes le permiten ser empleada en múltiples empacadoras automáticas verticales u horizontales VVFS o HFFS.' \n",
      "   Score: 0.3981\n",
      "\n",
      "20) Sentence: 'IdFichaTecnica: , CodigoDePelicula: ATg, Aplicaciones: Película de muy alta claridad y transparencia empleada en aplicaciones gráficas donde la alta resistencia al rayado es requerida, tales como termolaminación con papel de alta calidad para tapas blandas de libros, entre otros. Cumple con las regulaciones de la FDA para contacto con alimentos.' \n",
      "   Score: 0.3933\n",
      "\n",
      "21) Sentence: 'IdFichaTecnica: , CodigoDePelicula: ETD-TA, Aplicaciones: Empleada en una variedad de procesos de conversión en la industria de empaques para alimentos, así como aplicaciones industriales. La cara con tratamiento acrílico proporciona muy buena adhesividad a varios sistemas de tintas. Está diseñada para alta procesabilidad en máquinas de empaque como capa externa en laminaciones. Esta película es utilizada en stand-up pouch / doypacks para cosméticos, en paños húmedos para bebés y/o desmaquillantes, flowpacks y doypacks para productos orgánicos. Cumple con las regulaciones de la FDA y UE para contacto con alimentos.' \n",
      "   Score: 0.3921\n",
      "\n",
      "22) Sentence: 'IdFichaTecnica: , CodigoDePelicula: ET-NQ, Aplicaciones: Diseñada para ser empleada en una gran variedad de procesos de conversión en la industria de empaques para alimentos, así como aplicaciones industriales. El tratamiento químico proporciona una excelente adhesividad a varios sistemas de tintas tales como los sistemas base polivinílicas PVB, así como de adhesivos y aluminio en el proceso de metalizado. Está diseñada para alta procesabilidad en máquinas de empaque como capa externa en laminaciones. El tratamiento de coPET tiene resistencia limitada a la temperatura y a la humedad por lo que no es recomendable para procesos de llenado en caliente y de esterilización. . Cumple con las regulaciones de la FDA y UE para contacto con alimentos.' \n",
      "   Score: 0.3888\n",
      "\n",
      "23) Sentence: 'IdFichaTecnica: , CodigoDePelicula: CTE, Aplicaciones: Diseñada para ser empleada como mono-capa en diferentes aplicaciones de bolsas en los que se requieren alta flexibilidad y resistencia al impacto. Es usada en estructuras laminadas con otros sustratos para lograr una alta transparencia y resistencia al frío tal como en los empaques de pastas. Esta película es también usada en aplicaciones estacionarias como protector de hojas. Puede ser usada como protector externo en empaques de flores tipo exportación. Cumple con las regulaciones del FDA y UE para contacto con alimentos.' \n",
      "   Score: 0.3802\n",
      "\n",
      "24) Sentence: 'IdFichaTecnica: , CodigoDePelicula: ET-CN, Aplicaciones: Empleada en una gran variedad de procesos de conversión para la industria de empaques de alimentos así como en aplicaciones industriales. La cara copoliéster proporciona excelente adhesividad a varios sistemas de tintas tales como los sistemas base polivinílicas PVB, así como de adhesivos y aluminio en el proceso de metalizado. Diseñada para alta procesabilidad en empacadoras como capa externa en estructuras laminadas. Esta película tiene un desempeño consistente de hasta 121°C y para un máximo de 40 minutos a condiciones retortables. Resistente a la temperatura y a la humedad en las aplicaciones de envasado en caliente y esterilización. Cumple con regulaciones de la FDA y UE para contacto con alimentos.' \n",
      "   Score: 0.3794\n",
      "\n",
      "25) Sentence: 'IdFichaTecnica: , CodigoDePelicula: ENa-MT, Aplicaciones: Empleada en laminaciones para productos que requieran protección a la luz y barrera al oxígeno y a la humedad. El metalizado sobre la superficie acrílica brinda excelentes fuerzas de laminación en base solvente. Se recomienda usar adhesivos con buena elasticidad en el curado para evitar que éste afecte las fuerzas de laminación. Esta película es resistente a la temperatura y a la humedad en las aplicaciones de envasado en caliente y esterilización. Cumple con las regulaciones de la FDA y UE para contacto con alimentos.' \n",
      "   Score: 0.3754\n",
      "\n",
      "26) Sentence: 'IdFichaTecnica: , CodigoDePelicula: EMa-MT, Aplicaciones: Empleada en laminaciones para productos que requieran protección a la luz y barrera al oxígeno y a la humedad. El metalizado sobre el tratamiento acrílico provee muy altas fuerzas de unión en laminaciones base agua, con solvente y sin solvente. Se recomienda usar adhesivos con buena elasticidad en el curado para evitar que éste afecte las fuerzas de laminación. Esta película es resistente a la temperatura y a la humedad en las aplicaciones de envasado en caliente y esterilización. Cumple con las regulaciones de la FDA y UE para contacto con alimentos.' \n",
      "   Score: 0.3748\n",
      "\n",
      "27) Sentence: 'IdFichaTecnica: , CodigoDePelicula: CTH, Aplicaciones: Diseñada para proporcionar muy buena resistencia a la temperatura a su vez que presenta alta flexibilidad y resistencia al rasgado. Típicamente usada como película externa en laminaciones con otros sustratos de CPP y/o polietileno para altas exigencias de resistencia a temperaturas de mordazas y al desgarro. Cumple con las regulaciones de la FDA y UE para contacto con alimentos.' \n",
      "   Score: 0.3694\n",
      "\n",
      "28) Sentence: 'IdFichaTecnica: , CodigoDePelicula: ELa-MT, Aplicaciones: Empleada en laminaciones para productos electrónicos. La baja densidad óptica permite la visualización del producto empacado y al mismo tiempo lo protege de la generación de carga estática. También puede ser empleada como película susceptora en aplicaciones de calentamiento por microondas. El metalizado sobre el tratamiento acrílico provee muy altas fuerzas de unión en laminaciones base solvente y agua. Cumple con las regulaciones de la FDA y UE para contacto con alimentos.' \n",
      "   Score: 0.3689\n",
      "\n",
      "29) Sentence: 'IdFichaTecnica: , CodigoDePelicula: CTe, Aplicaciones: Diseñada para ser empleada como monocapa en diferentes aplicaciones de bolsas en los que se requieren alta flexibilidad y resistencia al impacto. Es usada en estructuras laminadas con otros sustratos para lograr una alta transparencia y resistencia al frío tal como en los empaques de pastas. Esta película es también usada en aplicaciones estacionarias como protector de hojas. Puede ser usada como protector externo en empaques de flores tipo exportación. El aditivo oxo-biodegradable promueve la degradación polimérica después de un año de la fecha de producción. La película finalmente se descompone en biomasa, agua y dióxido de carbono. Cumple con las regulaciones de la FDA y UE para contacto con alimentos.' \n",
      "   Score: 0.3526\n",
      "\n",
      "30) Sentence: 'IdFichaTecnica: , CodigoDePelicula: ETh-NN, Aplicaciones: Diseñada para ser empleada en una gran variedad de procesos de conversión para aplicaciones industriales. Esta película cuenta con alta resistencia térmica ideal para aplicaciones de estampado en caliente, recubrimientos con silicon y paneles FRP. Cumple con las regulaciones de la FDA Y UE para contacto con alimentos.' \n",
      "   Score: 0.3448\n"
     ]
    }
   ],
   "source": [
    "# 5. Mostrar los resultados\n",
    "print(\"Similitudes entre la oración de referencia y las oraciones en la lista:\")\n",
    "\n",
    "# Crear una lista de tuplas (índice, similitud) y ordenarla por similitud de mayor a menor\n",
    "sorted_similarities = sorted(enumerate(similarities), key=lambda x: x[1], reverse=True)\n",
    "\n",
    "# Imprimir los resultados ordenados\n",
    "for rank, (i, sim) in enumerate(sorted_similarities, start=1):\n",
    "    print(f\"\\n{rank}) Sentence: '{sentences[i]}' \\n   Score: {sim:.4f}\")"
   ]
  },
  {
   "cell_type": "code",
   "execution_count": 32,
   "metadata": {},
   "outputs": [],
   "source": [
    "from sentence_transformers import CrossEncoder\n",
    "model_cross_encoder = CrossEncoder('cross-encoder/mmarco-mMiniLMv2-L12-H384-v1', max_length=512)\n",
    "# Tomamos el TOP-15 de la primera etapa\n",
    "top_15_indices = [idx for (idx, sim) in sorted_similarities[:15]]\n",
    "\n",
    "# Construimos los pares (query, oración) para el cross-encoder\n",
    "pairs = [(reference_sentence, sentences[i]) for i in top_15_indices]\n",
    "\n",
    "# El cross-encoder produce scores de relevancia\n",
    "cross_scores = model_cross_encoder.predict(pairs)"
   ]
  },
  {
   "cell_type": "code",
   "execution_count": 33,
   "metadata": {},
   "outputs": [
    {
     "name": "stdout",
     "output_type": "stream",
     "text": [
      "\n",
      "===== [SEGUNDO RANKING: Re-rank con cross-encoder MS MARCO] =====\n",
      "\n",
      "1) Cross-Encoder Score: -1.9193 | Sentence: 'IdFichaTecnica: , CodigoDePelicula: ATr, Aplicaciones: Grado retortable, se utiliza como capa intermedia en laminaciones triples o cuádruples para envases flexibles retortables que deben soportar exigentes condiciones de esterilización. Estos envases reemplazan latas de conservas y se usan para empacar atún, pescados, comidas preparadas y otros. Cumple con las regulaciones de la FDA y UE para contacto con alimentos.'\n",
      "2) Cross-Encoder Score: -2.0606 | Sentence: 'IdFichaTecnica: , CodigoDePelicula: AT, Aplicaciones: Diseñada como película externa, impresa reversa en laminados. Utilizada en empaques al vacío o en atmósfera modificada que requiera buena barrera al oxígeno, para carnes procesadas, embutidos, mariscos, congelados, productos lácteos y pastas. También se usa en paquetes que requieren una excelente resistencia mecánica, resistencia al punzonado y “flexcrack”. Además se recomienda para envases con productos químicos exigentes y protección a las grasas, como las que se usan en alimentos para mascotas y limpiadores líquidos. Los productos laminados con esta película se encuentran en “stand up pouches” y en formatos de bolsas grandes. Cumple con las regulaciones de la FDA y UE para contacto con alimentos.'\n",
      "3) Cross-Encoder Score: -2.1400 | Sentence: 'IdFichaTecnica: , CodigoDePelicula: ATr-TT, Aplicaciones: Grado retortable, se utiliza como capa intermedia en laminaciones triples o cuádruples para envases flexibles retortables que deben soportar exigentes condiciones de esterilización. Estos envases reemplazan latas de conservas y se usan para empacar atún, pescados, comidas preparadas y otros.Cumple con las regulaciones de la FDA y UE para contacto con alimentos.'\n",
      "4) Cross-Encoder Score: -2.5258 | Sentence: 'IdFichaTecnica: , CodigoDePelicula: ATqi, Aplicaciones: Diseñada como película externa, impresa reversa en laminados. Utilizada en empaques al vacío o en atmósfera modificada que requiera buena barrera al oxígeno, para carnes procesadas, embutidos, mariscos, congelados, productos lácteos y pastas. También se usa en paquetes que requieren una excelente resistencia mecánica, resistencia al punzonado y flexcrack. Además, se recomienda para envases con productos químicos exigentes y protección a las grasas, como las que se utilizan en alimentos para mascotas y limpiadores líquidos. Los productos laminados con esta película se encuentran en stand up pouches y en formatos de bolsas grandes. Cumple con las regulaciones de la FDA y UE para contacto con alimentos.'\n",
      "5) Cross-Encoder Score: -3.3061 | Sentence: 'IdFichaTecnica: , CodigoDePelicula: ATqi-TT, Aplicaciones: Tratado en ambas caras, se utiliza como capa intermedia en laminaciones múltiples. Se recomienda en empaques que requieren de protección mecánica y/o química, para envasar productos con componentes migratorios como salsas de tomate, kétchup y mostaza y como barrera a los aceites y grasas. Cumple con las regulaciones de la FDA y UE para contacto con alimentos.'\n",
      "6) Cross-Encoder Score: -4.0464 | Sentence: 'IdFichaTecnica: , CodigoDePelicula: ET-TN, Aplicaciones: Diseñada para ser empleada en múltiples aplicaciones en una gran variedad de procesos de conversión en la industria de empaques para alimentos, así como aplicaciones industriales. La cara con tratamiento corona proporciona muy buena adhesividad a varios sistemas de tintas tales como los sistemas base polivinílicas PVB, así como de adhesivos y aluminio en el proceso de metalizado. Está diseñada para alta procesabilidad en máquinas de empaque como capa externa en laminaciones. Cumple con las regulaciones de la FDA Y UE para contacto con alimentos.'\n",
      "7) Cross-Encoder Score: -4.0839 | Sentence: 'IdFichaTecnica: , CodigoDePelicula: ET-NN, Aplicaciones: Diseñada para ser empleada en múltiples aplicaciones en una gran variedad de procesos de conversión en la industria de empaques para alimentos así como en aplicaciones industriales. Cumple con las regulaciones de la FDA Y UE para contacto con alimentos.'\n",
      "8) Cross-Encoder Score: -4.2116 | Sentence: 'IdFichaTecnica: , CodigoDePelicula: ETm-TN, Aplicaciones: Diseñada para ser empleada en múltiples aplicaciones en una gran variedad de procesos de conversión en la industria de empaques para alimentos, así como aplicaciones industriales. La cara con tratamiento corona proporciona muy buena adhesividad a varios sistemas de tintas tales como los sistemas base polivinílicas PVB, así como de adhesivos y aluminio en el proceso de metalizado. Está diseñada para alta procesabilidad en máquinas de empaque como capa externa en laminaciones. Cumple con las regulaciones de la FDA y UE para contacto con alimentos.'\n",
      "9) Cross-Encoder Score: -4.2495 | Sentence: 'IdFichaTecnica: , CodigoDePelicula: ET-TR, Aplicaciones: Diseñada para ser empleada en múltiples aplicaciones en diversos procesos de envasados técnicamente exigentes y de alto rendimiento dentro de la industria de empaques para alimentos así como en aplicaciones industriales. Además, es compatible con diversos métodos de impresión incluyendo flexografía, rotograbado, UV, EB y digital (con primer). Cumple con las regulaciones de la FDA Y UE para contacto con alimentos.'\n",
      "10) Cross-Encoder Score: -4.5003 | Sentence: 'IdFichaTecnica: , CodigoDePelicula: CMC , Aplicaciones: Este producto es típicamente empleado como capa interna en laminaciones para productos que requieran protección a la luz y alta barrera al oxígeno y/o a la humedad. Se recomienda usar adhesivos de buen curado elástico para evitar la afectación de las fuerzas de laminado. Para cumplir con las regulaciones de la FDA y UE de contacto con alimentos, la capa metálica debe localizarse en la cara externa o en “sándwich” dentro de la estructura laminada. Esta película genera alta fuerza de sello y hermeticidad del empaque.'\n",
      "11) Cross-Encoder Score: -4.5930 | Sentence: 'IdFichaTecnica: , CodigoDePelicula: CAH, Aplicaciones: Utilizada como mono-capa o en estructuras laminadas. Su hot-tack le permite ser usado en muchas aplicaciones que requieren de muy alta velocidad de empaque y sello a través de contaminantes en polvo. Esta película cumple con las regulaciones del FDA para contacto directo con alimentos. Es recomendable retratar la película para mejorar las fuerzas de unión.'\n",
      "12) Cross-Encoder Score: -4.9750 | Sentence: 'IdFichaTecnica: , CodigoDePelicula: CWLH, Aplicaciones: Diseñada para ser empleada en envolturas por si sola o en laminaciones donde se requiere un fondo blanco brillante. Debido a la excelente blancura de la película, los convertidores pueden tomar ventaja en ahorrar e incluso eliminar la tinta blanca en sus diseños. Sus propiedades sellantes le permite ser empleada en un sin número de aplicaciones finales de alta velocidad. Esta película es apropiada para sellos aleta o sello de hilo (side-weld) y en todo tipo de empacadoras automáticas o manuales, verticales u horizontales. Cumple con las regulaciones de la FDA y UE para contacto con alimentos.'\n",
      "13) Cross-Encoder Score: -4.9963 | Sentence: 'IdFichaTecnica: , CodigoDePelicula: CCe, Aplicaciones: Este producto ha sido diseñado para emplearse en laminaciones con otros sustratos tales como BOPP y BOPET así como en mono-capa en una amplia variedad de bolsas. Esta película puede ser usada en sellos de hilo (side-weld) o con sellos, tipo aleta o de traslape, consigo misma o con película coextruida de BOPP. Gracias a su característica de sello, es usada en empacadoras automáticas VVFS o HFFS. Cumple con las regulaciones de la FDA y EU para contacto directo con alimentos.'\n",
      "14) Cross-Encoder Score: -5.0994 | Sentence: 'IdFichaTecnica: , CodigoDePelicula: CA, Aplicaciones: Diseñada para ser utilizada como mono-capa o en estructuras laminadas. Su hot-tack le permite ser usado en muchas aplicaciones que requieren de muy alta velocidad de empaque y sello a través de contaminantes en polvo. Esta película puede también ser usada en empacadoras múltiples VFFS o HFSS con sello de aleta o traslape así como en sellos de hilo (side-weld) de bolsas. Esta película cumple con las regulaciones del FDA para contacto directo con alimentos.'\n",
      "15) Cross-Encoder Score: -5.2473 | Sentence: 'IdFichaTecnica: , CodigoDePelicula: CH, Aplicaciones: Diseñada para ser utilizada como mono-capa en diferentes tipos de bolsas de sello lateral (side-weld) de construcción plana, con pliegues o con fuelles en aplicaciones\n",
      "múltiples tales como envoltura de panadería, textiles y mangas de flores. Esta película cumple con las regulaciones del FDA y UE para contacto con alimentos.\n",
      "'\n"
     ]
    }
   ],
   "source": [
    "# Reunimos índices y scores\n",
    "# Reordenamos descendente\n",
    "reranked = sorted(zip(top_15_indices, cross_scores), key=lambda x: x[1], reverse=True)\n",
    "\n",
    "print(\"\\n===== [SEGUNDO RANKING: Re-rank con cross-encoder MS MARCO] =====\\n\")\n",
    "for rank, (idx, cscore) in enumerate(reranked, start=1):\n",
    "    print(f\"{rank}) Cross-Encoder Score: {cscore:.4f} | Sentence: '{sentences[idx]}'\")"
   ]
  }
 ],
 "metadata": {
  "kernelspec": {
   "display_name": "myenv",
   "language": "python",
   "name": "python3"
  },
  "language_info": {
   "codemirror_mode": {
    "name": "ipython",
    "version": 3
   },
   "file_extension": ".py",
   "mimetype": "text/x-python",
   "name": "python",
   "nbconvert_exporter": "python",
   "pygments_lexer": "ipython3",
   "version": "3.12.0"
  }
 },
 "nbformat": 4,
 "nbformat_minor": 2
}
